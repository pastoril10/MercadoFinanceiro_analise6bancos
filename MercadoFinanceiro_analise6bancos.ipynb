{
  "nbformat": 4,
  "nbformat_minor": 0,
  "metadata": {
    "colab": {
      "name": "MercadoFinanceiro_analise6bancos",
      "provenance": [],
      "authorship_tag": "ABX9TyNvYN/KBCY42DmPKSwKr+Ei",
      "include_colab_link": true
    },
    "kernelspec": {
      "name": "python3",
      "display_name": "Python 3"
    },
    "language_info": {
      "name": "python"
    }
  },
  "cells": [
    {
      "cell_type": "markdown",
      "metadata": {
        "id": "view-in-github",
        "colab_type": "text"
      },
      "source": [
        "<a href=\"https://colab.research.google.com/github/pastoril10/MercadoFinanceiro_analise6bancos/blob/main/MercadoFinanceiro_analise6bancos.ipynb\" target=\"_parent\"><img src=\"https://colab.research.google.com/assets/colab-badge.svg\" alt=\"Open In Colab\"/></a>"
      ]
    },
    {
      "cell_type": "markdown",
      "metadata": {
        "id": "cSQuJ6Ed5u6R"
      },
      "source": [
        "# Importando as bibliotecas"
      ]
    },
    {
      "cell_type": "code",
      "metadata": {
        "colab": {
          "base_uri": "https://localhost:8080/"
        },
        "id": "9RMbJFdn9-W-",
        "outputId": "9259a517-8276-432c-e680-f253dbf60568"
      },
      "source": [
        "!pip install yfinance"
      ],
      "execution_count": 1,
      "outputs": [
        {
          "output_type": "stream",
          "name": "stdout",
          "text": [
            "Collecting yfinance\n",
            "  Downloading yfinance-0.1.64.tar.gz (26 kB)\n",
            "Requirement already satisfied: pandas>=0.24 in /usr/local/lib/python3.7/dist-packages (from yfinance) (1.1.5)\n",
            "Requirement already satisfied: numpy>=1.15 in /usr/local/lib/python3.7/dist-packages (from yfinance) (1.19.5)\n",
            "Requirement already satisfied: requests>=2.20 in /usr/local/lib/python3.7/dist-packages (from yfinance) (2.23.0)\n",
            "Requirement already satisfied: multitasking>=0.0.7 in /usr/local/lib/python3.7/dist-packages (from yfinance) (0.0.9)\n",
            "Collecting lxml>=4.5.1\n",
            "  Downloading lxml-4.6.4-cp37-cp37m-manylinux_2_17_x86_64.manylinux2014_x86_64.manylinux_2_24_x86_64.whl (6.3 MB)\n",
            "\u001b[K     |████████████████████████████████| 6.3 MB 7.7 MB/s \n",
            "\u001b[?25hRequirement already satisfied: pytz>=2017.2 in /usr/local/lib/python3.7/dist-packages (from pandas>=0.24->yfinance) (2018.9)\n",
            "Requirement already satisfied: python-dateutil>=2.7.3 in /usr/local/lib/python3.7/dist-packages (from pandas>=0.24->yfinance) (2.8.2)\n",
            "Requirement already satisfied: six>=1.5 in /usr/local/lib/python3.7/dist-packages (from python-dateutil>=2.7.3->pandas>=0.24->yfinance) (1.15.0)\n",
            "Requirement already satisfied: idna<3,>=2.5 in /usr/local/lib/python3.7/dist-packages (from requests>=2.20->yfinance) (2.10)\n",
            "Requirement already satisfied: urllib3!=1.25.0,!=1.25.1,<1.26,>=1.21.1 in /usr/local/lib/python3.7/dist-packages (from requests>=2.20->yfinance) (1.24.3)\n",
            "Requirement already satisfied: chardet<4,>=3.0.2 in /usr/local/lib/python3.7/dist-packages (from requests>=2.20->yfinance) (3.0.4)\n",
            "Requirement already satisfied: certifi>=2017.4.17 in /usr/local/lib/python3.7/dist-packages (from requests>=2.20->yfinance) (2021.5.30)\n",
            "Building wheels for collected packages: yfinance\n",
            "  Building wheel for yfinance (setup.py) ... \u001b[?25l\u001b[?25hdone\n",
            "  Created wheel for yfinance: filename=yfinance-0.1.64-py2.py3-none-any.whl size=24109 sha256=4bdeeea85aa27b9607d15bbddb492c7f5977d3bb4bfda678604a47158bef8cb5\n",
            "  Stored in directory: /root/.cache/pip/wheels/86/fe/9b/a4d3d78796b699e37065e5b6c27b75cff448ddb8b24943c288\n",
            "Successfully built yfinance\n",
            "Installing collected packages: lxml, yfinance\n",
            "  Attempting uninstall: lxml\n",
            "    Found existing installation: lxml 4.2.6\n",
            "    Uninstalling lxml-4.2.6:\n",
            "      Successfully uninstalled lxml-4.2.6\n",
            "Successfully installed lxml-4.6.4 yfinance-0.1.64\n"
          ]
        }
      ]
    },
    {
      "cell_type": "code",
      "metadata": {
        "id": "rgdNVJRr5pa2"
      },
      "source": [
        "import pandas_datareader.data as wb\n",
        "import pandas as pd\n",
        "import numpy as np\n",
        "import matplotlib.pyplot as plt\n",
        "import seaborn as sns\n",
        "sns.set_style('whitegrid')\n",
        "%matplotlib inline\n",
        "from datetime import datetime\n",
        "\n",
        "import yfinance as yf\n",
        "yf.pdr_override()"
      ],
      "execution_count": 2,
      "outputs": []
    },
    {
      "cell_type": "markdown",
      "metadata": {
        "id": "5qZfwFox51sU"
      },
      "source": [
        "# Coletando dados"
      ]
    },
    {
      "cell_type": "code",
      "metadata": {
        "id": "60tA8Wgi7b7D"
      },
      "source": [
        "start = datetime(2019, 1, 1)"
      ],
      "execution_count": 3,
      "outputs": []
    },
    {
      "cell_type": "markdown",
      "metadata": {
        "id": "zZPFjd-W7OfE"
      },
      "source": [
        "Banco do Brasil\t- BBAS3\n",
        "\n",
        "Bradesco -\tBBDC4\n",
        "\n",
        "Itaú Unibanco\t- ITUB4\n",
        "\n",
        "Santander\t- SANB11\n",
        "\n",
        "BTG Pactual - BPAC11\n",
        "\n",
        "Banco Inter - BIDI11 (IPO em 27 de abr. de 2018 )"
      ]
    },
    {
      "cell_type": "code",
      "metadata": {
        "colab": {
          "base_uri": "https://localhost:8080/"
        },
        "id": "nRXEjDjP8mxr",
        "outputId": "f437a505-d75e-4de9-b194-e353524581f4"
      },
      "source": [
        "bbdc4 = wb.get_data_yahoo(\"BBDC4.SA\", start = start) # Bradesco - BBDC4\n",
        "bbas3 = wb.get_data_yahoo(\"BBAS3.SA\", start = start) # Banco do Brasil - BBAS3\n",
        "itub4 = wb.get_data_yahoo(\"ITUB4.SA\", start = start) # Itaú Unibanco - ITUB4\n",
        "sanb11 = wb.get_data_yahoo(\"SANB11.SA\", start = start) # Santander - SANB11\n",
        "bpac11 = wb.get_data_yahoo(\"BPAC11.SA\", start = start) # BTG Pactual - BPAC11\n",
        "bidi11 = wb.get_data_yahoo(\"BIDI11.SA\", start = start) # Banco Inter - BIDI11\n"
      ],
      "execution_count": 4,
      "outputs": [
        {
          "output_type": "stream",
          "name": "stdout",
          "text": [
            "[*********************100%***********************]  1 of 1 completed\n",
            "[*********************100%***********************]  1 of 1 completed\n",
            "[*********************100%***********************]  1 of 1 completed\n",
            "[*********************100%***********************]  1 of 1 completed\n",
            "[*********************100%***********************]  1 of 1 completed\n",
            "[*********************100%***********************]  1 of 1 completed\n"
          ]
        }
      ]
    },
    {
      "cell_type": "code",
      "metadata": {
        "colab": {
          "base_uri": "https://localhost:8080/",
          "height": 235
        },
        "id": "dcM9Vmgf-rOZ",
        "outputId": "0b51c6a9-3caf-4e6d-fe6b-0db617dcd7fe"
      },
      "source": [
        "bbdc4.tail()"
      ],
      "execution_count": 5,
      "outputs": [
        {
          "output_type": "execute_result",
          "data": {
            "text/html": [
              "<div>\n",
              "<style scoped>\n",
              "    .dataframe tbody tr th:only-of-type {\n",
              "        vertical-align: middle;\n",
              "    }\n",
              "\n",
              "    .dataframe tbody tr th {\n",
              "        vertical-align: top;\n",
              "    }\n",
              "\n",
              "    .dataframe thead th {\n",
              "        text-align: right;\n",
              "    }\n",
              "</style>\n",
              "<table border=\"1\" class=\"dataframe\">\n",
              "  <thead>\n",
              "    <tr style=\"text-align: right;\">\n",
              "      <th></th>\n",
              "      <th>Open</th>\n",
              "      <th>High</th>\n",
              "      <th>Low</th>\n",
              "      <th>Close</th>\n",
              "      <th>Adj Close</th>\n",
              "      <th>Volume</th>\n",
              "    </tr>\n",
              "    <tr>\n",
              "      <th>Date</th>\n",
              "      <th></th>\n",
              "      <th></th>\n",
              "      <th></th>\n",
              "      <th></th>\n",
              "      <th></th>\n",
              "      <th></th>\n",
              "    </tr>\n",
              "  </thead>\n",
              "  <tbody>\n",
              "    <tr>\n",
              "      <th>2021-10-27</th>\n",
              "      <td>20.50</td>\n",
              "      <td>21.030001</td>\n",
              "      <td>20.440001</td>\n",
              "      <td>20.559999</td>\n",
              "      <td>20.541054</td>\n",
              "      <td>28864500.0</td>\n",
              "    </tr>\n",
              "    <tr>\n",
              "      <th>2021-10-28</th>\n",
              "      <td>20.50</td>\n",
              "      <td>20.680000</td>\n",
              "      <td>20.150000</td>\n",
              "      <td>20.490000</td>\n",
              "      <td>20.471119</td>\n",
              "      <td>26560800.0</td>\n",
              "    </tr>\n",
              "    <tr>\n",
              "      <th>2021-10-29</th>\n",
              "      <td>20.60</td>\n",
              "      <td>20.629999</td>\n",
              "      <td>19.900000</td>\n",
              "      <td>19.900000</td>\n",
              "      <td>19.881662</td>\n",
              "      <td>27971000.0</td>\n",
              "    </tr>\n",
              "    <tr>\n",
              "      <th>2021-11-01</th>\n",
              "      <td>20.24</td>\n",
              "      <td>20.730000</td>\n",
              "      <td>20.090000</td>\n",
              "      <td>20.590000</td>\n",
              "      <td>20.571026</td>\n",
              "      <td>27856400.0</td>\n",
              "    </tr>\n",
              "    <tr>\n",
              "      <th>2021-11-03</th>\n",
              "      <td>NaN</td>\n",
              "      <td>NaN</td>\n",
              "      <td>NaN</td>\n",
              "      <td>NaN</td>\n",
              "      <td>NaN</td>\n",
              "      <td>NaN</td>\n",
              "    </tr>\n",
              "  </tbody>\n",
              "</table>\n",
              "</div>"
            ],
            "text/plain": [
              "             Open       High        Low      Close  Adj Close      Volume\n",
              "Date                                                                     \n",
              "2021-10-27  20.50  21.030001  20.440001  20.559999  20.541054  28864500.0\n",
              "2021-10-28  20.50  20.680000  20.150000  20.490000  20.471119  26560800.0\n",
              "2021-10-29  20.60  20.629999  19.900000  19.900000  19.881662  27971000.0\n",
              "2021-11-01  20.24  20.730000  20.090000  20.590000  20.571026  27856400.0\n",
              "2021-11-03    NaN        NaN        NaN        NaN        NaN         NaN"
            ]
          },
          "metadata": {},
          "execution_count": 5
        }
      ]
    },
    {
      "cell_type": "code",
      "metadata": {
        "colab": {
          "base_uri": "https://localhost:8080/"
        },
        "id": "uS0dtmiE8e46",
        "outputId": "38c27408-2a1f-445d-8a7a-febd39f3f542"
      },
      "source": [
        "#ordenando os tickers das ações em ordem alfabética \n",
        "tickers = [\"bbdc4\", \"bbas3\", \"itub4\", \"sanb11\", \"bpac11\", \"bidi11\"]\n",
        "tickers = sorted(tickers)\n",
        "tickers"
      ],
      "execution_count": 6,
      "outputs": [
        {
          "output_type": "execute_result",
          "data": {
            "text/plain": [
              "['bbas3', 'bbdc4', 'bidi11', 'bpac11', 'itub4', 'sanb11']"
            ]
          },
          "metadata": {},
          "execution_count": 6
        }
      ]
    },
    {
      "cell_type": "markdown",
      "metadata": {
        "id": "VwsumKkU-utC"
      },
      "source": [
        "Concatenando os DataFrames do banco juntos em um único. \n",
        "\n",
        "Definindo o argumento das chaves igual à lista de tickers. \n",
        "\n",
        "Concatenando por coluna e não por linha com o axis=1:\n"
      ]
    },
    {
      "cell_type": "code",
      "metadata": {
        "colab": {
          "base_uri": "https://localhost:8080/",
          "height": 388
        },
        "id": "HOYrnkob8TtV",
        "outputId": "7a94a0ca-56b0-4f95-8aa0-1d57b6b43574"
      },
      "source": [
        "bancos = pd.concat([bbas3, bbdc4, bidi11, bpac11, itub4, sanb11], axis=1, keys=tickers)\n",
        "bancos.tail()"
      ],
      "execution_count": 7,
      "outputs": [
        {
          "output_type": "execute_result",
          "data": {
            "text/html": [
              "<div>\n",
              "<style scoped>\n",
              "    .dataframe tbody tr th:only-of-type {\n",
              "        vertical-align: middle;\n",
              "    }\n",
              "\n",
              "    .dataframe tbody tr th {\n",
              "        vertical-align: top;\n",
              "    }\n",
              "\n",
              "    .dataframe thead tr th {\n",
              "        text-align: left;\n",
              "    }\n",
              "\n",
              "    .dataframe thead tr:last-of-type th {\n",
              "        text-align: right;\n",
              "    }\n",
              "</style>\n",
              "<table border=\"1\" class=\"dataframe\">\n",
              "  <thead>\n",
              "    <tr>\n",
              "      <th></th>\n",
              "      <th colspan=\"6\" halign=\"left\">bbas3</th>\n",
              "      <th colspan=\"6\" halign=\"left\">bbdc4</th>\n",
              "      <th colspan=\"6\" halign=\"left\">bidi11</th>\n",
              "      <th colspan=\"6\" halign=\"left\">bpac11</th>\n",
              "      <th colspan=\"6\" halign=\"left\">itub4</th>\n",
              "      <th colspan=\"6\" halign=\"left\">sanb11</th>\n",
              "    </tr>\n",
              "    <tr>\n",
              "      <th></th>\n",
              "      <th>Open</th>\n",
              "      <th>High</th>\n",
              "      <th>Low</th>\n",
              "      <th>Close</th>\n",
              "      <th>Adj Close</th>\n",
              "      <th>Volume</th>\n",
              "      <th>Open</th>\n",
              "      <th>High</th>\n",
              "      <th>Low</th>\n",
              "      <th>Close</th>\n",
              "      <th>Adj Close</th>\n",
              "      <th>Volume</th>\n",
              "      <th>Open</th>\n",
              "      <th>High</th>\n",
              "      <th>Low</th>\n",
              "      <th>Close</th>\n",
              "      <th>Adj Close</th>\n",
              "      <th>Volume</th>\n",
              "      <th>Open</th>\n",
              "      <th>High</th>\n",
              "      <th>Low</th>\n",
              "      <th>Close</th>\n",
              "      <th>Adj Close</th>\n",
              "      <th>Volume</th>\n",
              "      <th>Open</th>\n",
              "      <th>High</th>\n",
              "      <th>Low</th>\n",
              "      <th>Close</th>\n",
              "      <th>Adj Close</th>\n",
              "      <th>Volume</th>\n",
              "      <th>Open</th>\n",
              "      <th>High</th>\n",
              "      <th>Low</th>\n",
              "      <th>Close</th>\n",
              "      <th>Adj Close</th>\n",
              "      <th>Volume</th>\n",
              "    </tr>\n",
              "    <tr>\n",
              "      <th>Date</th>\n",
              "      <th></th>\n",
              "      <th></th>\n",
              "      <th></th>\n",
              "      <th></th>\n",
              "      <th></th>\n",
              "      <th></th>\n",
              "      <th></th>\n",
              "      <th></th>\n",
              "      <th></th>\n",
              "      <th></th>\n",
              "      <th></th>\n",
              "      <th></th>\n",
              "      <th></th>\n",
              "      <th></th>\n",
              "      <th></th>\n",
              "      <th></th>\n",
              "      <th></th>\n",
              "      <th></th>\n",
              "      <th></th>\n",
              "      <th></th>\n",
              "      <th></th>\n",
              "      <th></th>\n",
              "      <th></th>\n",
              "      <th></th>\n",
              "      <th></th>\n",
              "      <th></th>\n",
              "      <th></th>\n",
              "      <th></th>\n",
              "      <th></th>\n",
              "      <th></th>\n",
              "      <th></th>\n",
              "      <th></th>\n",
              "      <th></th>\n",
              "      <th></th>\n",
              "      <th></th>\n",
              "      <th></th>\n",
              "    </tr>\n",
              "  </thead>\n",
              "  <tbody>\n",
              "    <tr>\n",
              "      <th>2021-10-27</th>\n",
              "      <td>29.280001</td>\n",
              "      <td>29.900000</td>\n",
              "      <td>29.170000</td>\n",
              "      <td>29.17</td>\n",
              "      <td>29.17</td>\n",
              "      <td>7601200.0</td>\n",
              "      <td>20.50</td>\n",
              "      <td>21.030001</td>\n",
              "      <td>20.440001</td>\n",
              "      <td>20.559999</td>\n",
              "      <td>20.541054</td>\n",
              "      <td>28864500.0</td>\n",
              "      <td>41.009998</td>\n",
              "      <td>42.549999</td>\n",
              "      <td>39.400002</td>\n",
              "      <td>40.099998</td>\n",
              "      <td>40.099998</td>\n",
              "      <td>9891200.0</td>\n",
              "      <td>22.790001</td>\n",
              "      <td>23.459999</td>\n",
              "      <td>22.480000</td>\n",
              "      <td>22.799999</td>\n",
              "      <td>22.799999</td>\n",
              "      <td>8549000.0</td>\n",
              "      <td>23.879999</td>\n",
              "      <td>24.440001</td>\n",
              "      <td>23.780001</td>\n",
              "      <td>23.920000</td>\n",
              "      <td>23.901890</td>\n",
              "      <td>29516500.0</td>\n",
              "      <td>35.500000</td>\n",
              "      <td>36.279999</td>\n",
              "      <td>34.980000</td>\n",
              "      <td>35.060001</td>\n",
              "      <td>35.060001</td>\n",
              "      <td>5152400.0</td>\n",
              "    </tr>\n",
              "    <tr>\n",
              "      <th>2021-10-28</th>\n",
              "      <td>29.250000</td>\n",
              "      <td>29.290001</td>\n",
              "      <td>28.639999</td>\n",
              "      <td>28.91</td>\n",
              "      <td>28.91</td>\n",
              "      <td>9196200.0</td>\n",
              "      <td>20.50</td>\n",
              "      <td>20.680000</td>\n",
              "      <td>20.150000</td>\n",
              "      <td>20.490000</td>\n",
              "      <td>20.471119</td>\n",
              "      <td>26560800.0</td>\n",
              "      <td>39.400002</td>\n",
              "      <td>41.980000</td>\n",
              "      <td>39.009998</td>\n",
              "      <td>39.509998</td>\n",
              "      <td>39.509998</td>\n",
              "      <td>8029700.0</td>\n",
              "      <td>22.510000</td>\n",
              "      <td>23.360001</td>\n",
              "      <td>22.510000</td>\n",
              "      <td>22.730000</td>\n",
              "      <td>22.730000</td>\n",
              "      <td>9234500.0</td>\n",
              "      <td>23.670000</td>\n",
              "      <td>23.980000</td>\n",
              "      <td>23.379999</td>\n",
              "      <td>23.870001</td>\n",
              "      <td>23.851927</td>\n",
              "      <td>36802600.0</td>\n",
              "      <td>34.869999</td>\n",
              "      <td>35.480000</td>\n",
              "      <td>34.470001</td>\n",
              "      <td>35.060001</td>\n",
              "      <td>35.060001</td>\n",
              "      <td>2438800.0</td>\n",
              "    </tr>\n",
              "    <tr>\n",
              "      <th>2021-10-29</th>\n",
              "      <td>29.170000</td>\n",
              "      <td>29.170000</td>\n",
              "      <td>28.389999</td>\n",
              "      <td>28.50</td>\n",
              "      <td>28.50</td>\n",
              "      <td>11176000.0</td>\n",
              "      <td>20.60</td>\n",
              "      <td>20.629999</td>\n",
              "      <td>19.900000</td>\n",
              "      <td>19.900000</td>\n",
              "      <td>19.881662</td>\n",
              "      <td>27971000.0</td>\n",
              "      <td>40.099998</td>\n",
              "      <td>40.279999</td>\n",
              "      <td>35.740002</td>\n",
              "      <td>36.000000</td>\n",
              "      <td>36.000000</td>\n",
              "      <td>9437600.0</td>\n",
              "      <td>22.840000</td>\n",
              "      <td>23.230000</td>\n",
              "      <td>22.459999</td>\n",
              "      <td>22.650000</td>\n",
              "      <td>22.650000</td>\n",
              "      <td>12304500.0</td>\n",
              "      <td>23.940001</td>\n",
              "      <td>24.139999</td>\n",
              "      <td>23.299999</td>\n",
              "      <td>23.309999</td>\n",
              "      <td>23.292351</td>\n",
              "      <td>35245900.0</td>\n",
              "      <td>35.150002</td>\n",
              "      <td>35.400002</td>\n",
              "      <td>34.400002</td>\n",
              "      <td>34.400002</td>\n",
              "      <td>34.400002</td>\n",
              "      <td>1758500.0</td>\n",
              "    </tr>\n",
              "    <tr>\n",
              "      <th>2021-11-01</th>\n",
              "      <td>28.959999</td>\n",
              "      <td>29.590000</td>\n",
              "      <td>28.820000</td>\n",
              "      <td>29.15</td>\n",
              "      <td>29.15</td>\n",
              "      <td>8792100.0</td>\n",
              "      <td>20.24</td>\n",
              "      <td>20.730000</td>\n",
              "      <td>20.090000</td>\n",
              "      <td>20.590000</td>\n",
              "      <td>20.571026</td>\n",
              "      <td>27856400.0</td>\n",
              "      <td>36.340000</td>\n",
              "      <td>43.090000</td>\n",
              "      <td>36.200001</td>\n",
              "      <td>42.310001</td>\n",
              "      <td>42.310001</td>\n",
              "      <td>13626300.0</td>\n",
              "      <td>23.139999</td>\n",
              "      <td>23.900000</td>\n",
              "      <td>23.040001</td>\n",
              "      <td>23.590000</td>\n",
              "      <td>23.590000</td>\n",
              "      <td>13071500.0</td>\n",
              "      <td>23.709999</td>\n",
              "      <td>24.370001</td>\n",
              "      <td>23.650000</td>\n",
              "      <td>24.219999</td>\n",
              "      <td>24.219999</td>\n",
              "      <td>35470800.0</td>\n",
              "      <td>35.099998</td>\n",
              "      <td>36.470001</td>\n",
              "      <td>34.830002</td>\n",
              "      <td>35.959999</td>\n",
              "      <td>35.959999</td>\n",
              "      <td>2296100.0</td>\n",
              "    </tr>\n",
              "    <tr>\n",
              "      <th>2021-11-03</th>\n",
              "      <td>29.049999</td>\n",
              "      <td>29.840000</td>\n",
              "      <td>28.920000</td>\n",
              "      <td>29.51</td>\n",
              "      <td>29.51</td>\n",
              "      <td>5158700.0</td>\n",
              "      <td>NaN</td>\n",
              "      <td>NaN</td>\n",
              "      <td>NaN</td>\n",
              "      <td>NaN</td>\n",
              "      <td>NaN</td>\n",
              "      <td>NaN</td>\n",
              "      <td>44.040001</td>\n",
              "      <td>46.619999</td>\n",
              "      <td>41.840000</td>\n",
              "      <td>43.430000</td>\n",
              "      <td>43.430000</td>\n",
              "      <td>8742000.0</td>\n",
              "      <td>23.440001</td>\n",
              "      <td>24.330000</td>\n",
              "      <td>23.209999</td>\n",
              "      <td>23.780001</td>\n",
              "      <td>23.780001</td>\n",
              "      <td>5730800.0</td>\n",
              "      <td>24.010000</td>\n",
              "      <td>24.870001</td>\n",
              "      <td>24.010000</td>\n",
              "      <td>24.540001</td>\n",
              "      <td>24.540001</td>\n",
              "      <td>32448700.0</td>\n",
              "      <td>36.090000</td>\n",
              "      <td>36.970001</td>\n",
              "      <td>35.730000</td>\n",
              "      <td>36.529999</td>\n",
              "      <td>36.529999</td>\n",
              "      <td>1263100.0</td>\n",
              "    </tr>\n",
              "  </tbody>\n",
              "</table>\n",
              "</div>"
            ],
            "text/plain": [
              "                bbas3                        ...     sanb11                      \n",
              "                 Open       High        Low  ...      Close  Adj Close     Volume\n",
              "Date                                         ...                                 \n",
              "2021-10-27  29.280001  29.900000  29.170000  ...  35.060001  35.060001  5152400.0\n",
              "2021-10-28  29.250000  29.290001  28.639999  ...  35.060001  35.060001  2438800.0\n",
              "2021-10-29  29.170000  29.170000  28.389999  ...  34.400002  34.400002  1758500.0\n",
              "2021-11-01  28.959999  29.590000  28.820000  ...  35.959999  35.959999  2296100.0\n",
              "2021-11-03  29.049999  29.840000  28.920000  ...  36.529999  36.529999  1263100.0\n",
              "\n",
              "[5 rows x 36 columns]"
            ]
          },
          "metadata": {},
          "execution_count": 7
        }
      ]
    },
    {
      "cell_type": "code",
      "metadata": {
        "colab": {
          "base_uri": "https://localhost:8080/",
          "height": 320
        },
        "id": "QxOtfa0L_ZW5",
        "outputId": "562e5754-ea11-49c7-c875-acf39dd73e9f"
      },
      "source": [
        "#Definindo os níveis dos nomes das colunas\n",
        "bancos.columns.names = ['Bancos Ticker','Informações']\n",
        "bancos.tail()"
      ],
      "execution_count": 8,
      "outputs": [
        {
          "output_type": "execute_result",
          "data": {
            "text/html": [
              "<div>\n",
              "<style scoped>\n",
              "    .dataframe tbody tr th:only-of-type {\n",
              "        vertical-align: middle;\n",
              "    }\n",
              "\n",
              "    .dataframe tbody tr th {\n",
              "        vertical-align: top;\n",
              "    }\n",
              "\n",
              "    .dataframe thead tr th {\n",
              "        text-align: left;\n",
              "    }\n",
              "\n",
              "    .dataframe thead tr:last-of-type th {\n",
              "        text-align: right;\n",
              "    }\n",
              "</style>\n",
              "<table border=\"1\" class=\"dataframe\">\n",
              "  <thead>\n",
              "    <tr>\n",
              "      <th>Bancos Ticker</th>\n",
              "      <th colspan=\"6\" halign=\"left\">bbas3</th>\n",
              "      <th colspan=\"6\" halign=\"left\">bbdc4</th>\n",
              "      <th colspan=\"6\" halign=\"left\">bidi11</th>\n",
              "      <th colspan=\"6\" halign=\"left\">bpac11</th>\n",
              "      <th colspan=\"6\" halign=\"left\">itub4</th>\n",
              "      <th colspan=\"6\" halign=\"left\">sanb11</th>\n",
              "    </tr>\n",
              "    <tr>\n",
              "      <th>Informações</th>\n",
              "      <th>Open</th>\n",
              "      <th>High</th>\n",
              "      <th>Low</th>\n",
              "      <th>Close</th>\n",
              "      <th>Adj Close</th>\n",
              "      <th>Volume</th>\n",
              "      <th>Open</th>\n",
              "      <th>High</th>\n",
              "      <th>Low</th>\n",
              "      <th>Close</th>\n",
              "      <th>Adj Close</th>\n",
              "      <th>Volume</th>\n",
              "      <th>Open</th>\n",
              "      <th>High</th>\n",
              "      <th>Low</th>\n",
              "      <th>Close</th>\n",
              "      <th>Adj Close</th>\n",
              "      <th>Volume</th>\n",
              "      <th>Open</th>\n",
              "      <th>High</th>\n",
              "      <th>Low</th>\n",
              "      <th>Close</th>\n",
              "      <th>Adj Close</th>\n",
              "      <th>Volume</th>\n",
              "      <th>Open</th>\n",
              "      <th>High</th>\n",
              "      <th>Low</th>\n",
              "      <th>Close</th>\n",
              "      <th>Adj Close</th>\n",
              "      <th>Volume</th>\n",
              "      <th>Open</th>\n",
              "      <th>High</th>\n",
              "      <th>Low</th>\n",
              "      <th>Close</th>\n",
              "      <th>Adj Close</th>\n",
              "      <th>Volume</th>\n",
              "    </tr>\n",
              "    <tr>\n",
              "      <th>Date</th>\n",
              "      <th></th>\n",
              "      <th></th>\n",
              "      <th></th>\n",
              "      <th></th>\n",
              "      <th></th>\n",
              "      <th></th>\n",
              "      <th></th>\n",
              "      <th></th>\n",
              "      <th></th>\n",
              "      <th></th>\n",
              "      <th></th>\n",
              "      <th></th>\n",
              "      <th></th>\n",
              "      <th></th>\n",
              "      <th></th>\n",
              "      <th></th>\n",
              "      <th></th>\n",
              "      <th></th>\n",
              "      <th></th>\n",
              "      <th></th>\n",
              "      <th></th>\n",
              "      <th></th>\n",
              "      <th></th>\n",
              "      <th></th>\n",
              "      <th></th>\n",
              "      <th></th>\n",
              "      <th></th>\n",
              "      <th></th>\n",
              "      <th></th>\n",
              "      <th></th>\n",
              "      <th></th>\n",
              "      <th></th>\n",
              "      <th></th>\n",
              "      <th></th>\n",
              "      <th></th>\n",
              "      <th></th>\n",
              "    </tr>\n",
              "  </thead>\n",
              "  <tbody>\n",
              "    <tr>\n",
              "      <th>2021-10-27</th>\n",
              "      <td>29.280001</td>\n",
              "      <td>29.900000</td>\n",
              "      <td>29.170000</td>\n",
              "      <td>29.17</td>\n",
              "      <td>29.17</td>\n",
              "      <td>7601200.0</td>\n",
              "      <td>20.50</td>\n",
              "      <td>21.030001</td>\n",
              "      <td>20.440001</td>\n",
              "      <td>20.559999</td>\n",
              "      <td>20.541054</td>\n",
              "      <td>28864500.0</td>\n",
              "      <td>41.009998</td>\n",
              "      <td>42.549999</td>\n",
              "      <td>39.400002</td>\n",
              "      <td>40.099998</td>\n",
              "      <td>40.099998</td>\n",
              "      <td>9891200.0</td>\n",
              "      <td>22.790001</td>\n",
              "      <td>23.459999</td>\n",
              "      <td>22.480000</td>\n",
              "      <td>22.799999</td>\n",
              "      <td>22.799999</td>\n",
              "      <td>8549000.0</td>\n",
              "      <td>23.879999</td>\n",
              "      <td>24.440001</td>\n",
              "      <td>23.780001</td>\n",
              "      <td>23.920000</td>\n",
              "      <td>23.901890</td>\n",
              "      <td>29516500.0</td>\n",
              "      <td>35.500000</td>\n",
              "      <td>36.279999</td>\n",
              "      <td>34.980000</td>\n",
              "      <td>35.060001</td>\n",
              "      <td>35.060001</td>\n",
              "      <td>5152400.0</td>\n",
              "    </tr>\n",
              "    <tr>\n",
              "      <th>2021-10-28</th>\n",
              "      <td>29.250000</td>\n",
              "      <td>29.290001</td>\n",
              "      <td>28.639999</td>\n",
              "      <td>28.91</td>\n",
              "      <td>28.91</td>\n",
              "      <td>9196200.0</td>\n",
              "      <td>20.50</td>\n",
              "      <td>20.680000</td>\n",
              "      <td>20.150000</td>\n",
              "      <td>20.490000</td>\n",
              "      <td>20.471119</td>\n",
              "      <td>26560800.0</td>\n",
              "      <td>39.400002</td>\n",
              "      <td>41.980000</td>\n",
              "      <td>39.009998</td>\n",
              "      <td>39.509998</td>\n",
              "      <td>39.509998</td>\n",
              "      <td>8029700.0</td>\n",
              "      <td>22.510000</td>\n",
              "      <td>23.360001</td>\n",
              "      <td>22.510000</td>\n",
              "      <td>22.730000</td>\n",
              "      <td>22.730000</td>\n",
              "      <td>9234500.0</td>\n",
              "      <td>23.670000</td>\n",
              "      <td>23.980000</td>\n",
              "      <td>23.379999</td>\n",
              "      <td>23.870001</td>\n",
              "      <td>23.851927</td>\n",
              "      <td>36802600.0</td>\n",
              "      <td>34.869999</td>\n",
              "      <td>35.480000</td>\n",
              "      <td>34.470001</td>\n",
              "      <td>35.060001</td>\n",
              "      <td>35.060001</td>\n",
              "      <td>2438800.0</td>\n",
              "    </tr>\n",
              "    <tr>\n",
              "      <th>2021-10-29</th>\n",
              "      <td>29.170000</td>\n",
              "      <td>29.170000</td>\n",
              "      <td>28.389999</td>\n",
              "      <td>28.50</td>\n",
              "      <td>28.50</td>\n",
              "      <td>11176000.0</td>\n",
              "      <td>20.60</td>\n",
              "      <td>20.629999</td>\n",
              "      <td>19.900000</td>\n",
              "      <td>19.900000</td>\n",
              "      <td>19.881662</td>\n",
              "      <td>27971000.0</td>\n",
              "      <td>40.099998</td>\n",
              "      <td>40.279999</td>\n",
              "      <td>35.740002</td>\n",
              "      <td>36.000000</td>\n",
              "      <td>36.000000</td>\n",
              "      <td>9437600.0</td>\n",
              "      <td>22.840000</td>\n",
              "      <td>23.230000</td>\n",
              "      <td>22.459999</td>\n",
              "      <td>22.650000</td>\n",
              "      <td>22.650000</td>\n",
              "      <td>12304500.0</td>\n",
              "      <td>23.940001</td>\n",
              "      <td>24.139999</td>\n",
              "      <td>23.299999</td>\n",
              "      <td>23.309999</td>\n",
              "      <td>23.292351</td>\n",
              "      <td>35245900.0</td>\n",
              "      <td>35.150002</td>\n",
              "      <td>35.400002</td>\n",
              "      <td>34.400002</td>\n",
              "      <td>34.400002</td>\n",
              "      <td>34.400002</td>\n",
              "      <td>1758500.0</td>\n",
              "    </tr>\n",
              "    <tr>\n",
              "      <th>2021-11-01</th>\n",
              "      <td>28.959999</td>\n",
              "      <td>29.590000</td>\n",
              "      <td>28.820000</td>\n",
              "      <td>29.15</td>\n",
              "      <td>29.15</td>\n",
              "      <td>8792100.0</td>\n",
              "      <td>20.24</td>\n",
              "      <td>20.730000</td>\n",
              "      <td>20.090000</td>\n",
              "      <td>20.590000</td>\n",
              "      <td>20.571026</td>\n",
              "      <td>27856400.0</td>\n",
              "      <td>36.340000</td>\n",
              "      <td>43.090000</td>\n",
              "      <td>36.200001</td>\n",
              "      <td>42.310001</td>\n",
              "      <td>42.310001</td>\n",
              "      <td>13626300.0</td>\n",
              "      <td>23.139999</td>\n",
              "      <td>23.900000</td>\n",
              "      <td>23.040001</td>\n",
              "      <td>23.590000</td>\n",
              "      <td>23.590000</td>\n",
              "      <td>13071500.0</td>\n",
              "      <td>23.709999</td>\n",
              "      <td>24.370001</td>\n",
              "      <td>23.650000</td>\n",
              "      <td>24.219999</td>\n",
              "      <td>24.219999</td>\n",
              "      <td>35470800.0</td>\n",
              "      <td>35.099998</td>\n",
              "      <td>36.470001</td>\n",
              "      <td>34.830002</td>\n",
              "      <td>35.959999</td>\n",
              "      <td>35.959999</td>\n",
              "      <td>2296100.0</td>\n",
              "    </tr>\n",
              "    <tr>\n",
              "      <th>2021-11-03</th>\n",
              "      <td>29.049999</td>\n",
              "      <td>29.840000</td>\n",
              "      <td>28.920000</td>\n",
              "      <td>29.51</td>\n",
              "      <td>29.51</td>\n",
              "      <td>5158700.0</td>\n",
              "      <td>NaN</td>\n",
              "      <td>NaN</td>\n",
              "      <td>NaN</td>\n",
              "      <td>NaN</td>\n",
              "      <td>NaN</td>\n",
              "      <td>NaN</td>\n",
              "      <td>44.040001</td>\n",
              "      <td>46.619999</td>\n",
              "      <td>41.840000</td>\n",
              "      <td>43.430000</td>\n",
              "      <td>43.430000</td>\n",
              "      <td>8742000.0</td>\n",
              "      <td>23.440001</td>\n",
              "      <td>24.330000</td>\n",
              "      <td>23.209999</td>\n",
              "      <td>23.780001</td>\n",
              "      <td>23.780001</td>\n",
              "      <td>5730800.0</td>\n",
              "      <td>24.010000</td>\n",
              "      <td>24.870001</td>\n",
              "      <td>24.010000</td>\n",
              "      <td>24.540001</td>\n",
              "      <td>24.540001</td>\n",
              "      <td>32448700.0</td>\n",
              "      <td>36.090000</td>\n",
              "      <td>36.970001</td>\n",
              "      <td>35.730000</td>\n",
              "      <td>36.529999</td>\n",
              "      <td>36.529999</td>\n",
              "      <td>1263100.0</td>\n",
              "    </tr>\n",
              "  </tbody>\n",
              "</table>\n",
              "</div>"
            ],
            "text/plain": [
              "Bancos Ticker      bbas3                        ...     sanb11                      \n",
              "Informações         Open       High        Low  ...      Close  Adj Close     Volume\n",
              "Date                                            ...                                 \n",
              "2021-10-27     29.280001  29.900000  29.170000  ...  35.060001  35.060001  5152400.0\n",
              "2021-10-28     29.250000  29.290001  28.639999  ...  35.060001  35.060001  2438800.0\n",
              "2021-10-29     29.170000  29.170000  28.389999  ...  34.400002  34.400002  1758500.0\n",
              "2021-11-01     28.959999  29.590000  28.820000  ...  35.959999  35.959999  2296100.0\n",
              "2021-11-03     29.049999  29.840000  28.920000  ...  36.529999  36.529999  1263100.0\n",
              "\n",
              "[5 rows x 36 columns]"
            ]
          },
          "metadata": {},
          "execution_count": 8
        }
      ]
    },
    {
      "cell_type": "markdown",
      "metadata": {
        "id": "XWDkTFUgCgTF"
      },
      "source": [
        "# Análises exploratórias "
      ]
    },
    {
      "cell_type": "markdown",
      "metadata": {
        "id": "YlBlAvWyCnTo"
      },
      "source": [
        "Análise de dados exploratória.\n",
        "\n",
        "Pergunta: Qual é o preço máximo de fechamento para cada banco durante todo o período?"
      ]
    },
    {
      "cell_type": "code",
      "metadata": {
        "colab": {
          "base_uri": "https://localhost:8080/"
        },
        "id": "6bkhcBWbCljO",
        "outputId": "e6cf7fff-2a5c-40b4-f5f4-043bd0e9f114"
      },
      "source": [
        "\n",
        "bancos.xs('Close', level='Informações', axis=1).max()"
      ],
      "execution_count": 9,
      "outputs": [
        {
          "output_type": "execute_result",
          "data": {
            "text/plain": [
              "Bancos Ticker\n",
              "bbas3     55.180000\n",
              "bbdc4     35.827271\n",
              "bidi11    85.279999\n",
              "bpac11    32.270000\n",
              "itub4     39.689999\n",
              "sanb11    51.040001\n",
              "dtype: float64"
            ]
          },
          "metadata": {},
          "execution_count": 9
        }
      ]
    },
    {
      "cell_type": "code",
      "metadata": {
        "id": "n9THMOlODpxH"
      },
      "source": [
        "retorno = pd.DataFrame()\n",
        "for tick in tickers:\n",
        "    retorno[tick + 'Return'] = bancos[tick]['Close'].pct_change()"
      ],
      "execution_count": 10,
      "outputs": []
    },
    {
      "cell_type": "code",
      "metadata": {
        "colab": {
          "base_uri": "https://localhost:8080/",
          "height": 235
        },
        "id": "GUG1zSjMD4Tv",
        "outputId": "954d1a9a-733f-4fa7-da23-9af24947d97c"
      },
      "source": [
        "retorno.tail()"
      ],
      "execution_count": 11,
      "outputs": [
        {
          "output_type": "execute_result",
          "data": {
            "text/html": [
              "<div>\n",
              "<style scoped>\n",
              "    .dataframe tbody tr th:only-of-type {\n",
              "        vertical-align: middle;\n",
              "    }\n",
              "\n",
              "    .dataframe tbody tr th {\n",
              "        vertical-align: top;\n",
              "    }\n",
              "\n",
              "    .dataframe thead th {\n",
              "        text-align: right;\n",
              "    }\n",
              "</style>\n",
              "<table border=\"1\" class=\"dataframe\">\n",
              "  <thead>\n",
              "    <tr style=\"text-align: right;\">\n",
              "      <th></th>\n",
              "      <th>bbas3Return</th>\n",
              "      <th>bbdc4Return</th>\n",
              "      <th>bidi11Return</th>\n",
              "      <th>bpac11Return</th>\n",
              "      <th>itub4Return</th>\n",
              "      <th>sanb11Return</th>\n",
              "    </tr>\n",
              "    <tr>\n",
              "      <th>Date</th>\n",
              "      <th></th>\n",
              "      <th></th>\n",
              "      <th></th>\n",
              "      <th></th>\n",
              "      <th></th>\n",
              "      <th></th>\n",
              "    </tr>\n",
              "  </thead>\n",
              "  <tbody>\n",
              "    <tr>\n",
              "      <th>2021-10-27</th>\n",
              "      <td>-0.001027</td>\n",
              "      <td>0.013307</td>\n",
              "      <td>0.007032</td>\n",
              "      <td>0.014235</td>\n",
              "      <td>0.007582</td>\n",
              "      <td>-0.000285</td>\n",
              "    </tr>\n",
              "    <tr>\n",
              "      <th>2021-10-28</th>\n",
              "      <td>-0.008913</td>\n",
              "      <td>-0.003405</td>\n",
              "      <td>-0.014713</td>\n",
              "      <td>-0.003070</td>\n",
              "      <td>-0.002090</td>\n",
              "      <td>0.000000</td>\n",
              "    </tr>\n",
              "    <tr>\n",
              "      <th>2021-10-29</th>\n",
              "      <td>-0.014182</td>\n",
              "      <td>-0.028795</td>\n",
              "      <td>-0.088838</td>\n",
              "      <td>-0.003520</td>\n",
              "      <td>-0.023460</td>\n",
              "      <td>-0.018825</td>\n",
              "    </tr>\n",
              "    <tr>\n",
              "      <th>2021-11-01</th>\n",
              "      <td>0.022807</td>\n",
              "      <td>0.034673</td>\n",
              "      <td>0.175278</td>\n",
              "      <td>0.041501</td>\n",
              "      <td>0.039039</td>\n",
              "      <td>0.045349</td>\n",
              "    </tr>\n",
              "    <tr>\n",
              "      <th>2021-11-03</th>\n",
              "      <td>0.012350</td>\n",
              "      <td>0.000000</td>\n",
              "      <td>0.026471</td>\n",
              "      <td>0.008054</td>\n",
              "      <td>0.013212</td>\n",
              "      <td>0.015851</td>\n",
              "    </tr>\n",
              "  </tbody>\n",
              "</table>\n",
              "</div>"
            ],
            "text/plain": [
              "            bbas3Return  bbdc4Return  ...  itub4Return  sanb11Return\n",
              "Date                                  ...                           \n",
              "2021-10-27    -0.001027     0.013307  ...     0.007582     -0.000285\n",
              "2021-10-28    -0.008913    -0.003405  ...    -0.002090      0.000000\n",
              "2021-10-29    -0.014182    -0.028795  ...    -0.023460     -0.018825\n",
              "2021-11-01     0.022807     0.034673  ...     0.039039      0.045349\n",
              "2021-11-03     0.012350     0.000000  ...     0.013212      0.015851\n",
              "\n",
              "[5 rows x 6 columns]"
            ]
          },
          "metadata": {},
          "execution_count": 11
        }
      ]
    },
    {
      "cell_type": "markdown",
      "metadata": {
        "id": "XvsyCVnhDZU8"
      },
      "source": [
        "Pergunta: Em quais datas cada ação dos bancos teve o melhor dia de retorno?"
      ]
    },
    {
      "cell_type": "code",
      "metadata": {
        "colab": {
          "base_uri": "https://localhost:8080/"
        },
        "id": "YIn0MEcFC9BO",
        "outputId": "46ec0a76-1a69-4dc5-c083-ec7c1ebbfb27"
      },
      "source": [
        "## retorna o index do valor maximo (index é a data do ocorrido)\n",
        "retorno.idxmax()"
      ],
      "execution_count": 12,
      "outputs": [
        {
          "output_type": "execute_result",
          "data": {
            "text/plain": [
              "bbas3Return    2020-03-24\n",
              "bbdc4Return    2020-03-13\n",
              "bidi11Return   2021-05-24\n",
              "bpac11Return   2020-03-13\n",
              "itub4Return    2020-03-13\n",
              "sanb11Return   2020-03-24\n",
              "dtype: datetime64[ns]"
            ]
          },
          "metadata": {},
          "execution_count": 12
        }
      ]
    },
    {
      "cell_type": "markdown",
      "metadata": {
        "id": "_gJaJHmzE_Bh"
      },
      "source": [
        "Pergunta: Em quais datas cada ação dos bancos teve o pior dia de retorno?"
      ]
    },
    {
      "cell_type": "code",
      "metadata": {
        "colab": {
          "base_uri": "https://localhost:8080/"
        },
        "id": "6Bf6mpodEWBr",
        "outputId": "842e63b5-d169-455c-ab48-8db8aa0fbd30"
      },
      "source": [
        "## retorna o index do valor maximo (index é a data do ocorrido)\n",
        "retorno.idxmin()"
      ],
      "execution_count": 13,
      "outputs": [
        {
          "output_type": "execute_result",
          "data": {
            "text/plain": [
              "bbas3Return    2020-03-16\n",
              "bbdc4Return    2020-03-16\n",
              "bidi11Return   2020-03-09\n",
              "bpac11Return   2020-03-12\n",
              "itub4Return    2021-10-04\n",
              "sanb11Return   2020-03-12\n",
              "dtype: datetime64[ns]"
            ]
          },
          "metadata": {},
          "execution_count": 13
        }
      ]
    },
    {
      "cell_type": "markdown",
      "metadata": {
        "id": "vBMjUJXQFVoh"
      },
      "source": [
        "Nota-se que 5 bancos tiveram o pior dia em abril de 2020 e 1 banco no inicio de abril, esse periodo foi o do incio da pandamia do corona virus no Brasil"
      ]
    },
    {
      "cell_type": "markdown",
      "metadata": {
        "id": "gUXX_H4NFvz3"
      },
      "source": [
        "Pergunta: Qual ação foi a ação mais arriscada durante todo o período de tempo?\n",
        "\n",
        "Para isso, é apropriado olhar o desvio padrão das ações."
      ]
    },
    {
      "cell_type": "code",
      "metadata": {
        "colab": {
          "base_uri": "https://localhost:8080/"
        },
        "id": "rUC4diPsFDnJ",
        "outputId": "7e0683e3-8df2-48f6-c338-88d04025241b"
      },
      "source": [
        "retorno.std()"
      ],
      "execution_count": 14,
      "outputs": [
        {
          "output_type": "execute_result",
          "data": {
            "text/plain": [
              "bbas3Return     0.027907\n",
              "bbdc4Return     0.026321\n",
              "bidi11Return    0.045907\n",
              "bpac11Return    0.036638\n",
              "itub4Return     0.023817\n",
              "sanb11Return    0.025767\n",
              "dtype: float64"
            ]
          },
          "metadata": {},
          "execution_count": 14
        }
      ]
    },
    {
      "cell_type": "markdown",
      "metadata": {
        "id": "cy_HEje-F-na"
      },
      "source": [
        "O banco que mais oscilou em torno do seu valor médio foi o banco inter"
      ]
    },
    {
      "cell_type": "markdown",
      "metadata": {
        "id": "Jek4WKiWzVvd"
      },
      "source": [
        "Pergunta: Qual a mais arriscada para o ano 2019 (ano antes da pandemia)\n",
        "\n",
        "A mais arriscada em 2019 foi o Banco Inter"
      ]
    },
    {
      "cell_type": "code",
      "metadata": {
        "id": "Ad1gkOiR1Q0I"
      },
      "source": [
        ""
      ],
      "execution_count": null,
      "outputs": []
    },
    {
      "cell_type": "code",
      "metadata": {
        "colab": {
          "base_uri": "https://localhost:8080/"
        },
        "id": "uKYpfOZbF71P",
        "outputId": "5e7310a0-cb2f-44de-c61f-493b2d72fc75"
      },
      "source": [
        "por_data = retorno.copy()\n",
        "por_data.reset_index(inplace = True)\n",
        "por_data['Date'] = pd.to_datetime(por_data['Date'])\n",
        "por_data['Year'] = por_data['Date'].apply(lambda time: time.year) # Criando coluna com o ano de cada ação\n",
        "por_data[por_data['Year'] == 2019].std() #Pegando desvio padrão"
      ],
      "execution_count": 16,
      "outputs": [
        {
          "output_type": "execute_result",
          "data": {
            "text/plain": [
              "bbas3Return     0.019078\n",
              "bbdc4Return     0.016580\n",
              "bidi11Return    0.041474\n",
              "bpac11Return    0.029939\n",
              "itub4Return     0.015607\n",
              "sanb11Return    0.016136\n",
              "Year            0.000000\n",
              "dtype: float64"
            ]
          },
          "metadata": {},
          "execution_count": 16
        }
      ]
    },
    {
      "cell_type": "markdown",
      "metadata": {
        "id": "u38Lj0mE03v_"
      },
      "source": [
        "Pergunta: Qual a mais arriscada para o ano 2020 (ano da pandemia).\n",
        "\n",
        "O Banco mais arriscado foi O BTG e o Banco inter"
      ]
    },
    {
      "cell_type": "code",
      "metadata": {
        "colab": {
          "base_uri": "https://localhost:8080/"
        },
        "id": "lkkA3vLYF1x7",
        "outputId": "9cf13d75-7df2-44db-a515-88fb939b2406"
      },
      "source": [
        "por_data[por_data['Year'] == 2020].std() #Pegando desvio padrão"
      ],
      "execution_count": 17,
      "outputs": [
        {
          "output_type": "execute_result",
          "data": {
            "text/plain": [
              "bbas3Return     0.039046\n",
              "bbdc4Return     0.036929\n",
              "bidi11Return    0.046034\n",
              "bpac11Return    0.049372\n",
              "itub4Return     0.030417\n",
              "sanb11Return    0.035499\n",
              "Year            0.000000\n",
              "dtype: float64"
            ]
          },
          "metadata": {},
          "execution_count": 17
        }
      ]
    },
    {
      "cell_type": "markdown",
      "metadata": {
        "id": "3H5lluhB1jb_"
      },
      "source": [
        "Criando um plot de distribuição dos retornos de 2019 para o BBAS3"
      ]
    },
    {
      "cell_type": "code",
      "metadata": {
        "colab": {
          "base_uri": "https://localhost:8080/",
          "height": 350
        },
        "id": "G_tiMZ5M0_7w",
        "outputId": "f080cf96-ae17-4d12-9d4a-151c06eb6a77"
      },
      "source": [
        "sns.distplot(por_data[por_data['Year'] == 2019]['bbas3Return'])"
      ],
      "execution_count": 18,
      "outputs": [
        {
          "output_type": "stream",
          "name": "stderr",
          "text": [
            "/usr/local/lib/python3.7/dist-packages/seaborn/distributions.py:2619: FutureWarning: `distplot` is a deprecated function and will be removed in a future version. Please adapt your code to use either `displot` (a figure-level function with similar flexibility) or `histplot` (an axes-level function for histograms).\n",
            "  warnings.warn(msg, FutureWarning)\n"
          ]
        },
        {
          "output_type": "execute_result",
          "data": {
            "text/plain": [
              "<matplotlib.axes._subplots.AxesSubplot at 0x7f5960dd9090>"
            ]
          },
          "metadata": {},
          "execution_count": 18
        },
        {
          "output_type": "display_data",
          "data": {
            "image/png": "[encoded data removed]",
            "text/plain": [
              "<Figure size 432x288 with 1 Axes>"
            ]
          },
          "metadata": {
            "needs_background": "light"
          }
        }
      ]
    },
    {
      "cell_type": "markdown",
      "metadata": {
        "id": "Jp_tYz9h12j0"
      },
      "source": [
        "Gráfico de linha mostrando o preço de fechamento para cada banco em relação ao tempo."
      ]
    },
    {
      "cell_type": "code",
      "metadata": {
        "colab": {
          "base_uri": "https://localhost:8080/",
          "height": 392
        },
        "id": "nF3TYAJw1xYG",
        "outputId": "682fa2b9-cc1e-4978-ee1c-f5af23a56db8"
      },
      "source": [
        "for tick in tickers:\n",
        "    bancos[tick]['Close'].plot(figsize=(12,6), label=tick)\n",
        "    # ou bancos.xs(key='Close', level='Stock Info', axis=1).plot()\n",
        "plt.legend()"
      ],
      "execution_count": 20,
      "outputs": [
        {
          "output_type": "execute_result",
          "data": {
            "text/plain": [
              "<matplotlib.legend.Legend at 0x7f595909e410>"
            ]
          },
          "metadata": {},
          "execution_count": 20
        },
        {
          "output_type": "display_data",
          "data": {
            "image/png": "[encoded data removed]",
            "text/plain": [
              "<Figure size 864x432 with 1 Axes>"
            ]
          },
          "metadata": {
            "needs_background": "light"
          }
        }
      ]
    },
    {
      "cell_type": "markdown",
      "metadata": {
        "id": "3K7n8EuE3BG6"
      },
      "source": [
        "Nota-se uma queda nas ações no período da pandemia do coronavirus\n",
        "\n",
        "Traçando média móvel de 30 dias para o preço das ações do bbas3 para o ano de 2020.\n",
        "\n"
      ]
    },
    {
      "cell_type": "code",
      "metadata": {
        "colab": {
          "base_uri": "https://localhost:8080/",
          "height": 408
        },
        "id": "tigmgX1l2DPH",
        "outputId": "9f27b5bb-712a-478a-a0f0-306740588f55"
      },
      "source": [
        "plt.figure(figsize=(12,6))\n",
        "bb2020 = bbas3['Close'][bbas3.index.year == 2020]\n",
        "bb2020_mm5 = bb2020.rolling(5).mean().plot(label = 'Média móvel de 5 dias')\n",
        "bb2020_mm20 = bb2020.rolling(20).mean().plot(label = 'Média móvel de 20 dias')\n",
        "bb2020_mm = bb2020.rolling(30).mean().plot(label = 'Média móvel de 30 dias')\n",
        "bb2020.plot(label = 'Fechamento')\n",
        "plt.legend()\n",
        "plt.title(\"Média movel e fechamento das ações do Banco do Brasil no ano de 2020\")"
      ],
      "execution_count": 26,
      "outputs": [
        {
          "output_type": "execute_result",
          "data": {
            "text/plain": [
              "Text(0.5, 1.0, 'Média movel e fechamento das ações do Banco do Brasil no ano de 2020')"
            ]
          },
          "metadata": {},
          "execution_count": 26
        },
        {
          "output_type": "display_data",
          "data": {
            "image/png": "[encoded data removed]",
            "text/plain": [
              "<Figure size 864x432 with 1 Axes>"
            ]
          },
          "metadata": {
            "needs_background": "light"
          }
        }
      ]
    },
    {
      "cell_type": "code",
      "metadata": {
        "id": "1TCYeGJB8tkt"
      },
      "source": [
        "plt.figure(figsize=(12,6))\n",
        "bb2020 = bbas3['Close'][bbas3.index.year == 2020]\n",
        "bb2020_mm5 = bb2020.rolling(5).mean().plot(label = 'Média móvel de 5 dias')\n",
        "bb2020_mm20 = bb2020.rolling(20).mean().plot(label = 'Média móvel de 20 dias')\n",
        "bb2020_mm = bb2020.rolling(30).mean().plot(label = 'Média móvel de 30 dias')\n",
        "bb2020.plot(label = 'Fechamento')\n",
        "plt.legend()\n",
        "plt.title(\"Média movel e fechamento das ações do Banco do Brasil no ano de 2020\")"
      ],
      "execution_count": null,
      "outputs": []
    },
    {
      "cell_type": "markdown",
      "metadata": {
        "id": "AYt-iIuY4DzW"
      },
      "source": [
        "Mapa de calor da correlação entre os preços de fechamento das ações:"
      ]
    },
    {
      "cell_type": "code",
      "metadata": {
        "colab": {
          "base_uri": "https://localhost:8080/",
          "height": 518
        },
        "id": "sNVWJQe83wCC",
        "outputId": "661b5b14-5c52-4669-aa83-30ed6e0c2336"
      },
      "source": [
        "corr = bancos.xs(key='Close', level='Informações', axis=1).corr()\n",
        "plt.figure(figsize=(10,8))\n",
        "sns.heatmap(corr, cmap='coolwarm', annot=True)"
      ],
      "execution_count": 23,
      "outputs": [
        {
          "output_type": "execute_result",
          "data": {
            "text/plain": [
              "<matplotlib.axes._subplots.AxesSubplot at 0x7f5958e82c10>"
            ]
          },
          "metadata": {},
          "execution_count": 23
        },
        {
          "output_type": "display_data",
          "data": {
            "image/png": "[encoded data removed]",
            "text/plain": [
              "<Figure size 720x576 with 2 Axes>"
            ]
          },
          "metadata": {
            "needs_background": "light"
          }
        }
      ]
    },
    {
      "cell_type": "markdown",
      "metadata": {
        "id": "i9HUcGEr5Rjr"
      },
      "source": [
        "Nota- se grandes correlações entre as ações:\n",
        "\n",
        "\n",
        "*   Banco inter e BTG Pactual\n",
        "*   Banco Bradesco e Itau\n",
        "*   Banco Santander e Itau\n",
        "*   Banco do Brasil e Itau\n",
        "*   Banco do Brasil e Bradesco\n",
        "\n",
        "Menor correlação se da entre:\n",
        "\n",
        "*   Banco itau e Banco inter\n",
        "*   Banco Inter e Bradesco\n",
        "\n"
      ]
    },
    {
      "cell_type": "markdown",
      "metadata": {
        "id": "MFJ4i_Ey6O4c"
      },
      "source": [
        "Existe uma relação grande entre os grandes bancos tradicionais, assim como existe uma relação grande entre os bancos digitais."
      ]
    },
    {
      "cell_type": "markdown",
      "metadata": {
        "id": "7CsqK_md6zIk"
      },
      "source": [
        "Mostrando também clustermap para agrupar as correlações:"
      ]
    },
    {
      "cell_type": "code",
      "metadata": {
        "colab": {
          "base_uri": "https://localhost:8080/",
          "height": 747
        },
        "id": "dnKRkXp36dOC",
        "outputId": "22501f37-d13a-4ae4-cb6d-df1c64fdd441"
      },
      "source": [
        "sns.clustermap(corr, cmap='coolwarm', annot=True)"
      ],
      "execution_count": 24,
      "outputs": [
        {
          "output_type": "execute_result",
          "data": {
            "text/plain": [
              "<seaborn.matrix.ClusterGrid at 0x7f5950588cd0>"
            ]
          },
          "metadata": {},
          "execution_count": 24
        },
        {
          "output_type": "display_data",
          "data": {
            "image/png": "[encoded data removed]",
            "text/plain": [
              "<Figure size 720x720 with 4 Axes>"
            ]
          },
          "metadata": {
            "needs_background": "light"
          }
        }
      ]
    }
  ]
}